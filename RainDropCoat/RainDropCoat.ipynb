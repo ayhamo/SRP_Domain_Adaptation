{
 "cells": [
  {
   "cell_type": "markdown",
   "metadata": {},
   "source": [
    "# Raincoat"
   ]
  },
  {
   "cell_type": "markdown",
   "metadata": {},
   "source": [
    "## New Raincoat"
   ]
  },
  {
   "cell_type": "markdown",
   "metadata": {},
   "source": [
    "In order to use Raindrop, we have to Replace the CNN Encoder in RAINCOAT with it:\n",
    "Currently, RAINCOAT uses a standard 1D CNN (CNN class in raincoat.py) to extract time-domain features. This assumes regularly sampled data.\n",
    "We need to replace this CNN encoder with the core architecture of RAINDROP (Raindrop_v2 class in model_rd.py). This will allow RAINCOAT to handle the irregular sampling and capture the complex inter-sensor dependencies."
   ]
  },
  {
   "cell_type": "markdown",
   "metadata": {},
   "source": [
    "FOR DECODER:\n",
    "\n",
    "- Reconstruction Logic: The reconstruction logic needs to be adjusted. Here are a few potential approaches:\n",
    "Interpolation: You could use the timestamps and the generated features to interpolate the reconstructed signal at the desired time points.\n",
    "- Time-Aware Decoder: Design a decoder that explicitly incorporates timestamps into its operations. For example, you might use a recurrent neural network (RNN) to process the features and timestamps sequentially, generating the output at each time step.\n",
    "- Masking: If you have missing values (not all timestamps have observations), you might use masking to handle them during reconstruction.\n",
    "- Loss Function: The current L1 reconstruction loss assumes a regular time series. You might need to adapt the loss function to account for irregularity, such as:\n",
    "Weighted Loss: Give more weight to the observed time points during loss calculation.\n",
    "Specialized Loss: Explore loss functions specifically designed for irregular time series reconstruction."
   ]
  },
  {
   "cell_type": "markdown",
   "metadata": {},
   "source": [
    "## Name this later?"
   ]
  },
  {
   "cell_type": "code",
   "execution_count": null,
   "metadata": {},
   "outputs": [],
   "source": [
    "# Raincoat arguments\n",
    "# ========  Experiments Name ================\n",
    "save_dir ='experiments_logs' # Directory containing all experiments\n",
    "experiment_description = 'WISDM' # Name of your experiment (EEG, HAR, HHAR_SA, WISDM)\n",
    "\n",
    "# ========= Select the DATASET ==============\n",
    "data_path = r'./data' #Path containing dataset\n",
    "dataset = 'WISDM' # Dataset of choice: (WISDM - EEG - HAR - HHAR_SA, Boiler)\n",
    "\n",
    "# ========= Experiment settings ===============\n",
    "num_runs = 1 # Number of consecutive run with different seeds\n",
    "device = 'cuda' # cpu or cuda"
   ]
  },
  {
   "cell_type": "code",
   "execution_count": null,
   "metadata": {},
   "outputs": [],
   "source": [
    "args = {\n",
    "    'save_dir': save_dir,\n",
    "    'experiment_description': experiment_description,\n",
    "    'data_path': data_path,\n",
    "    'dataset': dataset,\n",
    "    'num_runs': feature_removal_level,\n",
    "    'device': device\n",
    "}\n",
    "\n",
    "trainer = cross_domain_trainer(args)\n",
    "trainer.train()"
   ]
  }
 ],
 "metadata": {
  "kernelspec": {
   "display_name": "env",
   "language": "python",
   "name": "python3"
  },
  "language_info": {
   "codemirror_mode": {
    "name": "ipython",
    "version": 3
   },
   "file_extension": ".py",
   "mimetype": "text/x-python",
   "name": "python",
   "nbconvert_exporter": "python",
   "pygments_lexer": "ipython3",
   "version": "3.12.5"
  }
 },
 "nbformat": 4,
 "nbformat_minor": 2
}
